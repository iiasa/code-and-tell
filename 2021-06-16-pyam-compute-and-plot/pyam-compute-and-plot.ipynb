{
 "cells": [
  {
   "cell_type": "markdown",
   "metadata": {},
   "source": [
    "# Computing derived indicators from timeseries data\n",
    "\n",
    "This notebook was presented by Daniel Huppmann as a \"code-and-tell\" session in the MESSAGEix weekly meeting on June 16, 2021.\n",
    "\n",
    "The tutorial is based on the advanced assignment of the Modelling Lab of\n",
    "the **Climate Risks Academy 2021** organized by the European University Institute (EUI)\n",
    "Florence School of Banking and Finance in cooperation with Oliver Wyman.\n",
    "\n",
    "The scenario data used here is taken from the [NGFS Scenario Explorer hosted by IIASA](https://data.ece.iiasa.ac.at/ngfs), Phase 2 (June 2021).\n",
    "\n",
    "See [here](https://github.com/danielhuppmann/climate-risks-academy-2021)\n",
    "for the full assignment (and template solutions) from the Modelling Lab class.\n",
    "\n",
    "### Requirements\n",
    "\n",
    "You can install pyam using the following command -\n",
    "note the subtle naming difference on [pypi.org](https://pypi.org/project/pyam-iamc/).\n",
    "\n",
    "```\n",
    "pip install pyam-iamc\n",
    "```\n"
   ]
  },
  {
   "cell_type": "code",
   "execution_count": null,
   "metadata": {},
   "outputs": [],
   "source": [
    "import pyam"
   ]
  },
  {
   "cell_type": "code",
   "execution_count": null,
   "metadata": {},
   "outputs": [],
   "source": [
    "df = pyam.IamDataFrame(\"ngfs_snapshot.csv\")"
   ]
  },
  {
   "cell_type": "markdown",
   "metadata": {},
   "source": [
    "## Show a summary of the scenario data\n",
    "\n",
    "Just calling the **IamDataFrame** prints an overview of all dimensions and coordinates."
   ]
  },
  {
   "cell_type": "code",
   "execution_count": null,
   "metadata": {},
   "outputs": [],
   "source": [
    "df"
   ]
  },
  {
   "cell_type": "markdown",
   "metadata": {},
   "source": [
    "Because there are more scenarios and variables than can be displayed in one line, the summary only shows a few items.\n",
    "\n",
    "We can easily display all items of a dimension or coordinate individually."
   ]
  },
  {
   "cell_type": "code",
   "execution_count": null,
   "metadata": {},
   "outputs": [],
   "source": [
    "df.scenario"
   ]
  },
  {
   "cell_type": "code",
   "execution_count": null,
   "metadata": {},
   "outputs": [],
   "source": [
    "df.variable"
   ]
  },
  {
   "cell_type": "markdown",
   "metadata": {},
   "source": [
    "## Compute the amount of primary energy that is not coal\n",
    "\n",
    "### Step 1: Compute total primary energy\n",
    "\n",
    "For the first section of this example, we want to compute the amount of primary energy that is not supplied from coal for each scenario. For that, we first have to compute the aggregate primary energy supply.\n",
    "\n",
    "By default, the [aggregate()](https://pyam-iamc.readthedocs.io/en/stable/api/iamdataframe.html#pyam.IamDataFrame.aggregate) method\n",
    "takes all components of the given variable, in this case `Primary Energy|*`.<br />\n",
    "It returns a new **IamDataFrame** - and the cell displays the summary. You will see that the object has exactly one variable now."
   ]
  },
  {
   "cell_type": "code",
   "execution_count": null,
   "metadata": {},
   "outputs": [],
   "source": [
    "df.aggregate(\"Primary Energy\")"
   ]
  },
  {
   "cell_type": "markdown",
   "metadata": {},
   "source": [
    "Or you can use the [timeseries()](https://pyam-iamc.readthedocs.io/en/stable/api/iamdataframe.html#pyam.IamDataFrame.timeseries) method to show the timeseries data in wide format."
   ]
  },
  {
   "cell_type": "code",
   "execution_count": null,
   "metadata": {},
   "outputs": [],
   "source": [
    "df.aggregate(\"Primary Energy\").timeseries()"
   ]
  },
  {
   "cell_type": "markdown",
   "metadata": {},
   "source": [
    "It is often convenient to directly append computed timeseries data to the original object. You can use the `append=True` keyword argument."
   ]
  },
  {
   "cell_type": "code",
   "execution_count": null,
   "metadata": {},
   "outputs": [],
   "source": [
    "df.aggregate(\"Primary Energy\", append=True)"
   ]
  },
  {
   "cell_type": "markdown",
   "metadata": {},
   "source": [
    "When displaying the variables of the **IamDataFrame**, there is now an additional variable `Primary Energy`."
   ]
  },
  {
   "cell_type": "code",
   "execution_count": null,
   "metadata": {},
   "outputs": [],
   "source": [
    "df.variable"
   ]
  },
  {
   "cell_type": "markdown",
   "metadata": {},
   "source": [
    "### Step 2: Compute non-coal primary energy as quanitity and as share of total primary energy \n",
    "\n",
    "Now, we can compute the amount of primary energy that is not coal.\n",
    "\n",
    "All algebraic-operations functions (\n",
    "[add()](https://pyam-iamc.readthedocs.io/en/stable/api/iamdataframe.html#pyam.IamDataFrame.add),\n",
    "[subtract()](https://pyam-iamc.readthedocs.io/en/stable/api/iamdataframe.html#pyam.IamDataFrame.subtract),\n",
    "[multiply()](https://pyam-iamc.readthedocs.io/en/stable/api/iamdataframe.html#pyam.IamDataFrame.multiply),\n",
    "[divide()](https://pyam-iamc.readthedocs.io/en/stable/api/iamdataframe.html#pyam.IamDataFrame.divide)\n",
    ") follow the syntax:\n",
    "\n",
    "```\n",
    "df.<method>(a, b, c) => a <op> b = c\n",
    "```\n",
    "\n",
    "Note that in simple cases, **pyam** will try to keep the unit consistent during the operation.\n",
    "\n",
    "First, we subtract coal from total primary energy and draw a simple [plot](https://pyam-iamc.readthedocs.io/en/stable/api/plotting.html)."
   ]
  },
  {
   "cell_type": "code",
   "execution_count": null,
   "metadata": {},
   "outputs": [],
   "source": [
    "df.subtract(\"Primary Energy\", \"Primary Energy|Coal\", \"Non-Coal\").plot()"
   ]
  },
  {
   "cell_type": "markdown",
   "metadata": {},
   "source": [
    "Next, we can also compute the share of coal relative to total primary energy, and again draw the plot."
   ]
  },
  {
   "cell_type": "code",
   "execution_count": null,
   "metadata": {},
   "outputs": [],
   "source": [
    "df.divide(\"Primary Energy|Coal\", \"Primary Energy\", \"Non-Coal\").plot()"
   ]
  },
  {
   "cell_type": "markdown",
   "metadata": {},
   "source": [
    "Note that **pyam** has automatically changed the unit on the y-axis. Dividing `EJ/yr` by `EJ/yr` results in a dimensionless value.\n",
    "\n",
    "As a third step, you may be annoyed by the legend being automatically placed in the figure, which makes it difficult to interpret the plot.<br />\n",
    "You can simply pass a legend-location dictionary as keyword argument to the plot!"
   ]
  },
  {
   "cell_type": "code",
   "execution_count": null,
   "metadata": {},
   "outputs": [],
   "source": [
    "(\n",
    "    df.divide(\"Primary Energy|Coal\", \"Primary Energy\", \"Non-Coal\")\n",
    "    .plot(legend=dict(loc=\"outside bottom\"))\n",
    ")"
   ]
  },
  {
   "cell_type": "markdown",
   "metadata": {},
   "source": [
    "## Compute ratio of energy sources between different scenarios\n",
    "\n",
    "So far, we used the algebraic operations on the (default) *variable* axis.\n",
    "But **pyam** also supports these operations on any other axis of the timeseries data!\n",
    "\n",
    "Now, we compute the relative indicator between the *Net Zero 2050* and the *Current Policies*,\n",
    "and again plot the resulting timeseries data."
   ]
  },
  {
   "cell_type": "code",
   "execution_count": null,
   "metadata": {},
   "outputs": [],
   "source": [
    "(\n",
    "    df.divide(\"Net Zero 2050\", \"Current Policies\", \"diff\", axis=\"scenario\")\n",
    "    .plot(legend=dict(loc=\"outside right\"))\n",
    ")"
   ]
  },
  {
   "cell_type": "markdown",
   "metadata": {},
   "source": [
    "As a final illustration, this tutorials shows how to use **matplotlib** and **pyam** to create several plots next to each other."
   ]
  },
  {
   "cell_type": "code",
   "execution_count": null,
   "metadata": {},
   "outputs": [],
   "source": [
    "import matplotlib.pyplot as plt"
   ]
  },
  {
   "cell_type": "code",
   "execution_count": null,
   "metadata": {},
   "outputs": [],
   "source": [
    "scenario = [\n",
    "    \"Below 2°C\",\n",
    "    \"Delayed transition\",\n",
    "    \"Divergent Net Zero\",\n",
    "    \"Nationally Determined Contributions (NDCs) \",\n",
    "    \"Net Zero 2050\",\n",
    "]\n",
    "\n",
    "baseline = \"Current Policies \"\n",
    "\n",
    "# We first create a matplotlib figure with several \"axes\" objects (i.e., individual plots)\n",
    "fig, ax = plt.subplots(1, len(scenario), figsize=(15, 5), sharey=True)\n",
    "\n",
    "# We iterate over all scenarios\n",
    "for i, s in enumerate(scenario):\n",
    "    (\n",
    "        df.divide(s, \"Current Policies\", \"diff\", axis=\"scenario\")\n",
    "        # We instruct pyam to \"draw\" the plot directly in a specific plot (axes) of the matplotlib figure\n",
    "        .plot(ax=ax[i], legend=dict(loc=\"outside right\") if i == len(scenario) - 1 else False)\n",
    "    )\n",
    "    \n",
    "    # We specifically set the scenario name as plot title instead of the pyam default\n",
    "    ax[i].set_title(s)"
   ]
  },
  {
   "cell_type": "markdown",
   "metadata": {},
   "source": [
    "<div class=\"alert alert-info\">\n",
    "    \n",
    "**Curious about more pyam features?** Check out the all the pyam tutorials on our [ReadTheDocs page](https://pyam-iamc.readthedocs.io/en/stable/tutorials.html)!\n",
    "\n",
    "</div>"
   ]
  },
  {
   "cell_type": "code",
   "execution_count": null,
   "metadata": {},
   "outputs": [],
   "source": []
  }
 ],
 "metadata": {
  "kernelspec": {
   "display_name": "Python 3",
   "language": "python",
   "name": "python3"
  },
  "language_info": {
   "codemirror_mode": {
    "name": "ipython",
    "version": 3
   },
   "file_extension": ".py",
   "mimetype": "text/x-python",
   "name": "python",
   "nbconvert_exporter": "python",
   "pygments_lexer": "ipython3",
   "version": "3.9.4"
  }
 },
 "nbformat": 4,
 "nbformat_minor": 4
}
