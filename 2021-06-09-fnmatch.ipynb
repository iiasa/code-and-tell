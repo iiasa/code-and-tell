{
 "cells": [
  {
   "cell_type": "markdown",
   "metadata": {},
   "source": [
    "# [fnmatch](https://docs.python.org/3/library/fnmatch.html)\n",
    "\n",
    "1. What is fnmatch and why is it useful?\n",
    "1. Why should I use fnmatch and not regex?\n",
    "1. Two examples\n",
    "\n",
    "Fnmatch is part of the python standard library. Allows the use of UNIX style wildcards for string matching. Makes it easy to select a single file type out of a list (e.g. *.csv).\n",
    "\n",
    "While regex is much more powerful, fnmatch offers a simple syntax for using wildcards.\n",
    "\n",
    "If you want to look for a string that starts with 5 characters, then a space and then 3 numbers between 4 and 7 you'll still need to resort to regex though.\n"
   ]
  },
  {
   "cell_type": "markdown",
   "metadata": {},
   "source": [
    "## Simple example"
   ]
  },
  {
   "cell_type": "code",
   "execution_count": 12,
   "metadata": {},
   "outputs": [
    {
     "name": "stdout",
     "output_type": "stream",
     "text": [
      "some_picture.png\n",
      "another_picture.png\n",
      "['some_picture.png', 'another_picture.png']\n"
     ]
    }
   ],
   "source": [
    "import fnmatch\n",
    "\n",
    "FILES = [\"some_picture.png\", \"some_data.csv\", \"another_picture.png\"]\n",
    "\n",
    "# select only the .png files\n",
    "for file in FILES:\n",
    "    if fnmatch.fnmatch(file, '*.png'):\n",
    "        print(file)\n",
    "        \n",
    "# or using the fnmatch shorthand\n",
    "print(fnmatch.filter(FILES, '*.png'))"
   ]
  },
  {
   "cell_type": "markdown",
   "metadata": {},
   "source": [
    "*SIDE NOTE*: The matching is **case insensitive**, if you want to perform a case sensitive match use [`fnmatch.fnmatchcase()`](https://docs.python.org/3/library/fnmatch.html#fnmatch.fnmatchcase)\n",
    "\n",
    "## Match a list of patterns\n"
   ]
  },
  {
   "cell_type": "code",
   "execution_count": 13,
   "metadata": {},
   "outputs": [
    {
     "name": "stdout",
     "output_type": "stream",
     "text": [
      "MESSAGEix-GLOBIOM 1.0\n",
      "MESSAGEix-GLOBIOM 1.1\n",
      "REMIND-MAgPIE 2.1-4.2\n",
      "REMIND-MAgPIE 1.7-3.2\n"
     ]
    }
   ],
   "source": [
    "MODELS = [\"MESSAGEix-GLOBIOM 1.0\",\n",
    "          \"MESSAGEix-GLOBIOM 1.1\",\n",
    "          \"REMIND-MAgPIE 2.1-4.2\",\n",
    "          \"REMIND-MAgPIE 1.7-3.2\",\n",
    "          \"NIGEM\",\n",
    "          \"POLES GECO2019\",\n",
    "          \"COFFEE 1.0\",\n",
    "          \"COFFEE 2.0\",\n",
    "          \"TEA\",\n",
    "          \"GCAM5.2\",\n",
    "          \"GCAM5.3\"]\n",
    "\n",
    "MATCH_MODELS = [\"MESSAGEix-GLOBIOM*\", \"REMIND-MAgPIE*\"]\n",
    "\n",
    "match_any = lambda x, patterns: any(fnmatch.fnmatch(x, pattern) for pattern in patterns)\n",
    "\n",
    "for m in MODELS:\n",
    "    if match_any(m, MATCH_MODELS):\n",
    "        print(m)"
   ]
  }
 ],
 "metadata": {
  "kernelspec": {
   "display_name": "Python 3",
   "language": "python",
   "name": "python3"
  },
  "language_info": {
   "codemirror_mode": {
    "name": "ipython",
    "version": 3
   },
   "file_extension": ".py",
   "mimetype": "text/x-python",
   "name": "python",
   "nbconvert_exporter": "python",
   "pygments_lexer": "ipython3",
   "version": "3.8.5"
  }
 },
 "nbformat": 4,
 "nbformat_minor": 2
}