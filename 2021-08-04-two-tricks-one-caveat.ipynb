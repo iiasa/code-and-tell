{
 "cells": [
  {
   "cell_type": "markdown",
   "metadata": {},
   "source": [
    "# The for-else-loop\n",
    "\n",
    "Python allows a for-else-loop. For loops with a breaking condition we can check if the condition a reached or if the loop ran through.\n",
    "\n",
    "## Example:\n",
    "We have a list of models `models = ['Message', 'GCAM', 'REMIND']` and want to find out if any model name is shorter than 4 characters. If we find one, we want to print the first one we find, if not we want to say that we came up empty handed. \n",
    "\n",
    "## Side Note:\n",
    "Of course the following example can be solved more efficiently using a list comprehension. It is only meant to illustrate the point of a for-else-loop construct. "
   ]
  },
  {
   "cell_type": "code",
   "execution_count": 3,
   "metadata": {},
   "outputs": [
    {
     "name": "stdout",
     "output_type": "stream",
     "text": [
      "No model shorter than 4 characters found.\n"
     ]
    }
   ],
   "source": [
    "models = ['Message', 'GCAM', 'REMIND']\n",
    "for m in models:\n",
    "    if len(m) < 4:\n",
    "        print(f\"Model {m} has length {len(m)}.\")\n",
    "else:\n",
    "    print(\"No model shorter than 4 characters found.\")"
   ]
  },
  {
   "cell_type": "markdown",
   "metadata": {},
   "source": [
    "# Fun with f-strings\n",
    "\n",
    "F-strings are pythons latest (since version 3.6 added trough [PEP 498](https://www.python.org/dev/peps/pep-0498/)) way of formatting strings. \n",
    "\n",
    "Here's a few short examples of what f-strings can do any why they are useful:"
   ]
  },
  {
   "cell_type": "markdown",
   "metadata": {},
   "source": [
    "### Basic use\n",
    "including in-place evaluation of expressions"
   ]
  },
  {
   "cell_type": "code",
   "execution_count": 17,
   "metadata": {},
   "outputs": [
    {
     "name": "stdout",
     "output_type": "stream",
     "text": [
      "some value\n",
      "246.10000000000002\n"
     ]
    }
   ],
   "source": [
    "some_variable = 'some value'\n",
    "x = 15.3\n",
    "print(f'{some_variable}')\n",
    "print(f'{17*x - 14}')"
   ]
  },
  {
   "cell_type": "markdown",
   "metadata": {},
   "source": [
    "### Print variable name\n",
    "useful for debugging and error messages"
   ]
  },
  {
   "cell_type": "code",
   "execution_count": 18,
   "metadata": {},
   "outputs": [
    {
     "name": "stdout",
     "output_type": "stream",
     "text": [
      "some_variable = 'some value'\n",
      "17*x - 14 = 246.10000000000002\n",
      "There was a problem with some_variable = 'some value'\n"
     ]
    }
   ],
   "source": [
    "print(f'{some_variable = }')\n",
    "print(f'{17*x - 14 = }')\n",
    "error_msg = f'There was a problem with {some_variable = }'\n",
    "print(error_msg)"
   ]
  },
  {
   "cell_type": "markdown",
   "metadata": {},
   "source": [
    "### Padding"
   ]
  },
  {
   "cell_type": "code",
   "execution_count": 19,
   "metadata": {},
   "outputs": [
    {
     "name": "stdout",
     "output_type": "stream",
     "text": [
      "      test\n",
      "    test 2\n",
      "test******\n",
      "===test===\n",
      "~~~~~~~~~~test~~~~~~~~~~~\n"
     ]
    }
   ],
   "source": [
    "x = 'test'\n",
    "y = 'test 2'\n",
    "# left\n",
    "print(f'{x:>10}')\n",
    "print(f'{y:>10}')\n",
    "# right\n",
    "print(f'{x:*<10}')\n",
    "# both sides\n",
    "print(f'{x:=^10}')\n",
    "# fancy padding depending on a variable\n",
    "n = 25\n",
    "print(f'{x:~^{n}}')"
   ]
  },
  {
   "cell_type": "markdown",
   "metadata": {},
   "source": [
    "### Number formatting and conversion"
   ]
  },
  {
   "cell_type": "code",
   "execution_count": 44,
   "metadata": {
    "scrolled": true
   },
   "outputs": [
    {
     "name": "stdout",
     "output_type": "stream",
     "text": [
      "0042\n",
      "042.00\n",
      "42.2\n",
      "2a\n",
      "2A\n",
      "101010\n",
      "*\n",
      "52\n",
      "0000101010\n"
     ]
    }
   ],
   "source": [
    "a = 42\n",
    "b = 42.19\n",
    "# Number formatting\n",
    "print(f\"{a:04d}\") # zero padded integer\n",
    "print(f\"{a:06.2f}\") # zero padded floating point\n",
    "print(f\"{b:.1f}\") # zero padded floating point, rounds automatically (**very handy**)\n",
    "# Number conversion\n",
    "print(f\"{a:x}\") # hex\n",
    "print(f\"{a:X}\") # hex (uppercase)\n",
    "print(f\"{a:b}\") # binary\n",
    "print(f\"{a:c}\") # ascii\n",
    "print(f\"{a:o}\") # octal\n",
    "print(f\"{a:010b}\") # combined with padding, padding with 0 to a total of 10 digits"
   ]
  },
  {
   "cell_type": "markdown",
   "metadata": {},
   "source": [
    "# Mutable default Arguments (the caveat)\n",
    "\n",
    "The python interpreter evaluates default argument only at the beginning of the evaluation process.\n",
    "Mutable default arguments don't change, even though we might expect them to.\n",
    "\n",
    "## Links:\n",
    "\n",
    "* Explanation on [stackoverflow](https://stackoverflow.com/questions/1132941/least-astonishment-and-the-mutable-default-argument)"
   ]
  },
  {
   "cell_type": "code",
   "execution_count": null,
   "metadata": {},
   "outputs": [],
   "source": [
    "# two examples and a solution\n",
    "\n",
    "# empty list\n",
    "\n",
    "# time.now()\n",
    "\n",
    "# arg = None pattern\n",
    "if arg is None:\n",
    "    arg = []"
   ]
  }
 ],
 "metadata": {
  "kernelspec": {
   "display_name": "Python 3",
   "language": "python",
   "name": "python3"
  },
  "language_info": {
   "codemirror_mode": {
    "name": "ipython",
    "version": 3
   },
   "file_extension": ".py",
   "mimetype": "text/x-python",
   "name": "python",
   "nbconvert_exporter": "python",
   "pygments_lexer": "ipython3",
   "version": "3.8.10"
  }
 },
 "nbformat": 4,
 "nbformat_minor": 2
}
