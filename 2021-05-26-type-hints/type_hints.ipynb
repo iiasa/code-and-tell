{
 "cells": [
  {
   "cell_type": "markdown",
   "metadata": {},
   "source": [
    "# [PEP 484](https://www.python.org/dev/peps/pep-0484/) aka type hints in python\n",
    "\n",
    "\n",
    "1. What are type hints and why are they useful?\n",
    "1. How to use them in practice?\n",
    "1. Some examples\n",
    "1. Integration with doc strings\n",
    "\n",
    "## What are type hints?\n",
    "\n",
    "A way of annotating the input and return data types that a function takes. \n",
    "\n",
    "Instead of defining a function `def add_integers(a, b):`, you define it as `def add_integers(a: int, b: int) -> int:`.\n",
    "\n",
    "## Why use it?\n",
    "\n",
    "1. Enables type checking tools (such as [mypy](http://mypy-lang.org/)) to check your code for wrong input types. The tools work in the same way as a linter (such as [pylint](https://www.pylint.org/) or [Flake8](https://flake8.pycqa.org/en/latest/)) does.\n",
    "1. Provides quick information to anyone reading the code about what type of input parameters a function takes. \n",
    "1. Integrates nicely with an auto docstring tool\n",
    "\n",
    "**IMPORTANT:** this changes nothing with the function at runtime. You are still free to feed into the function whatever you want (e.g. `add_integers(\"1\", \"1\")` will run just fine). However, static type checkers will point out mistakes."
   ]
  },
  {
   "cell_type": "markdown",
   "metadata": {},
   "source": [
    "## First example\n",
    "Normal, not annotated function"
   ]
  },
  {
   "cell_type": "code",
   "execution_count": 14,
   "metadata": {},
   "outputs": [],
   "source": [
    "def add_integers(a, b):\n",
    "    return a + b"
   ]
  },
  {
   "cell_type": "markdown",
   "metadata": {},
   "source": [
    "## Adding annotation"
   ]
  },
  {
   "cell_type": "code",
   "execution_count": 2,
   "metadata": {},
   "outputs": [],
   "source": [
    "def add_integers_annotated(a: int, b: int) -> int:\n",
    "    return a + b"
   ]
  },
  {
   "cell_type": "markdown",
   "metadata": {},
   "source": [
    "compatible with default arguments"
   ]
  },
  {
   "cell_type": "code",
   "execution_count": 3,
   "metadata": {},
   "outputs": [],
   "source": [
    "def add_integers_with_defaults(a: int = 1, b: int = 1) -> int:\n",
    "    return a + b"
   ]
  },
  {
   "cell_type": "markdown",
   "metadata": {},
   "source": [
    "## CAVEAT\n",
    "As said before, the following will still run just fine:"
   ]
  },
  {
   "cell_type": "code",
   "execution_count": 10,
   "metadata": {},
   "outputs": [
    {
     "data": {
      "text/plain": [
       "2.5"
      ]
     },
     "execution_count": 10,
     "metadata": {},
     "output_type": "execute_result"
    }
   ],
   "source": [
    "add_integers_annotated(1.5,1)"
   ]
  },
  {
   "cell_type": "markdown",
   "metadata": {},
   "source": [
    "## A real world example\n",
    "\n",
    "Setting:\n",
    "\n",
    "* We want to give a function some .csv input to read.\n",
    "* We use the pandas `read_csv` function for that. \n",
    "* For our uses we want to use the very convenient python [`pathlib.Path`](https://docs.python.org/3/library/pathlib.html) object\n",
    "* However, we probably should not assume that everyone of our users knows about this library so we should also accept strings"
   ]
  },
  {
   "cell_type": "code",
   "execution_count": 13,
   "metadata": {},
   "outputs": [],
   "source": [
    "import pandas as pd\n",
    "from pathlib import Path\n",
    "from typing import Union\n",
    "\n",
    "def read_some_data(file: Union[str, Path]) -> pd.DataFrame:\n",
    "    return pd.read_csv(file)"
   ]
  },
  {
   "cell_type": "markdown",
   "metadata": {},
   "source": [
    "But wait, what about the [`read_csv`](https://pandas.pydata.org/pandas-docs/stable/reference/api/pandas.read_csv.html) function from pandas, won't that crash now with the `Path` object?"
   ]
  },
  {
   "cell_type": "markdown",
   "metadata": {},
   "source": [
    "## Bonus: Integration with autodocstring\n",
    "(onto the live demo in vs code)"
   ]
  },
  {
   "cell_type": "markdown",
   "metadata": {},
   "source": [
    "## Links:\n",
    "\n",
    "* [VS Code](https://code.visualstudio.com/), most popular code editor in [2019 stackoverflow survey](https://insights.stackoverflow.com/survey/2019#development-environments-and-tools)\n",
    "* [Python Docstring Generator](https://marketplace.visualstudio.com/items?itemName=njpwerner.autodocstring)\n",
    "* Further information on the topic can be found is [this great talk](https://www.youtube.com/watch?v=ST33zDM9vOE) from pycon us 2020"
   ]
  }
 ],
 "metadata": {
  "kernelspec": {
   "display_name": "Python 3",
   "language": "python",
   "name": "python3"
  },
  "language_info": {
   "codemirror_mode": {
    "name": "ipython",
    "version": 3
   },
   "file_extension": ".py",
   "mimetype": "text/x-python",
   "name": "python",
   "nbconvert_exporter": "python",
   "pygments_lexer": "ipython3",
   "version": "3.8.5"
  }
 },
 "nbformat": 4,
 "nbformat_minor": 2
}
