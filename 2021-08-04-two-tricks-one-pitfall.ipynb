{
 "cells": [
  {
   "cell_type": "markdown",
   "source": [
    "# Two tricks and a pitfall \n",
    "## Trick #1: The for-else-loop\n",
    "\n",
    "Python allows a for-else-loop. This is used for for-loops with a breaking condition to check whether the breaking condition was met or the loop ran through.\n",
    "\n",
    "### Example:\n",
    "We have a list of models `models = ['MESSAGE', 'GCAM', 'REMIND']` and want to find out if any model name is shorter than 4 characters. If we find one, we want to print the first one we find. If we do not fine one, we want to say that we came up empty handed. \n",
    "\n",
    "### Side Note:\n",
    "Of course the following example can be solved more efficiently using for example list comprehension. It is only meant to illustrate the point of a for-else-loop construct. "
   ],
   "metadata": {}
  },
  {
   "cell_type": "code",
   "execution_count": 3,
   "source": [
    "models = ['MESSAGE', 'GCAM', 'REMIND']\n",
    "for m in models:\n",
    "    if len(m) < 4:\n",
    "        print(f\"Model '{m}' has length {len(m)}.\")\n",
    "        break\n",
    "else:\n",
    "    print(\"No model shorter than 4 characters found.\")"
   ],
   "outputs": [
    {
     "output_type": "stream",
     "name": "stdout",
     "text": [
      "No model shorter than 4 characters found.\n"
     ]
    }
   ],
   "metadata": {}
  },
  {
   "cell_type": "markdown",
   "source": [
    "## Trick #2 f-strings\n",
    "\n",
    "F-strings are pythons latest (since version 3.6 added trough [PEP 498](https://www.python.org/dev/peps/pep-0498/)) way of formatting strings. \n",
    "\n",
    "Here's a few short examples of what f-strings can do and why they might be useful for you:"
   ],
   "metadata": {}
  },
  {
   "cell_type": "markdown",
   "source": [
    "### Basic use\n",
    "* printing a variable value\n",
    "* in-place evaluation of expressions"
   ],
   "metadata": {}
  },
  {
   "cell_type": "code",
   "execution_count": 5,
   "source": [
    "some_variable = 'some value'\n",
    "x = 15.3\n",
    "print(f'{some_variable}')\n",
    "print(f'{17*x - 14}')"
   ],
   "outputs": [
    {
     "output_type": "stream",
     "name": "stdout",
     "text": [
      "some value\n",
      "246.10000000000002\n"
     ]
    }
   ],
   "metadata": {}
  },
  {
   "cell_type": "markdown",
   "source": [
    "### Print variable name and value\n",
    "* useful for debugging and error messages"
   ],
   "metadata": {}
  },
  {
   "cell_type": "code",
   "execution_count": 6,
   "source": [
    "print(f'{some_variable = }')\n",
    "print(f'{17*x - 14 = }')\n",
    "error_msg = f'There was a problem with {some_variable = }'\n",
    "print(error_msg)"
   ],
   "outputs": [
    {
     "output_type": "stream",
     "name": "stdout",
     "text": [
      "some_variable = 'some value'\n",
      "17*x - 14 = 244.39999999999998\n",
      "There was a problem with some_variable = 'some value'\n"
     ]
    }
   ],
   "metadata": {}
  },
  {
   "cell_type": "markdown",
   "source": [
    "### Padding\n",
    "* useful for creating nicely formatted text output (to the console or to a file)"
   ],
   "metadata": {}
  },
  {
   "cell_type": "code",
   "execution_count": 7,
   "source": [
    "x = 'test'\n",
    "y = 'test 2'\n",
    "# left\n",
    "print(f'{x:>10}')\n",
    "print(f'{y:>10}')\n",
    "# right\n",
    "print(f'{x:*<10}')\n",
    "# both sides\n",
    "print(f'{x:=^10}')\n",
    "# fancy padding depending on a variable\n",
    "n = 25\n",
    "print(f'{x:~^{n}}')"
   ],
   "outputs": [
    {
     "output_type": "stream",
     "name": "stdout",
     "text": [
      "      test\n",
      "    test 2\n",
      "test******\n",
      "===test===\n",
      "~~~~~~~~~~test~~~~~~~~~~~\n"
     ]
    }
   ],
   "metadata": {}
  },
  {
   "cell_type": "markdown",
   "source": [
    "### Number formatting and conversion\n",
    "* also useful for creating nicely formatted output"
   ],
   "metadata": {}
  },
  {
   "cell_type": "code",
   "execution_count": 6,
   "source": [
    "a = 42\n",
    "b = 42.19648624816541\n",
    "\n",
    "# Number formatting\n",
    "print(f\"{a:04d}\") # zero padded integer\n",
    "print(f\"{a:06.2f}\") # zero padded floating point\n",
    "print(f\"{b:.1f}\") # zero padded floating point, rounds automatically (**very handy**)\n",
    "\n",
    "# Number conversion\n",
    "print(f\"{a:x}\") # hex\n",
    "print(f\"{a:X}\") # hex (uppercase)\n",
    "print(f\"{a:b}\") # binary\n",
    "print(f\"{a:c}\") # ascii\n",
    "print(f\"{a:o}\") # octal\n",
    "print(f\"{a:010b}\") # combined with padding, padding with 0 to a total of 10 digits"
   ],
   "outputs": [
    {
     "output_type": "stream",
     "name": "stdout",
     "text": [
      "0042\n",
      "042.00\n",
      "42.2\n",
      "2a\n",
      "2A\n",
      "101010\n",
      "*\n",
      "52\n",
      "0000101010\n"
     ]
    }
   ],
   "metadata": {
    "scrolled": true
   }
  },
  {
   "cell_type": "markdown",
   "source": [
    "## The Pitfall: Mutable default arguments\n",
    "\n",
    "The python interpreter evaluates default arguments only **once** at the beginning of the interpretation process.\n",
    "Mutable default arguments don't change, even though we might expect them to.\n",
    "\n",
    "Mutable data types are:\n",
    "\n",
    "* lists\n",
    "* dictionaries\n",
    "* set\n",
    "* user-defined classes\n",
    "* results from function calls (see the datetime.now() example below)\n",
    "\n",
    "This can lead to unexpected beheavior where the defaults are not re-evaluated every time the function is called. For more details refer to [this explanation](https://stackoverflow.com/questions/1132941/least-astonishment-and-the-mutable-default-argument) on stackoverflow.\n",
    "\n",
    "### Side Note: \n",
    "As above both of the following items are a bit contrived. However, they are again simply meant to provide a simple illustration of the problem rather than give a realistic use-case in the wild."
   ],
   "metadata": {}
  },
  {
   "cell_type": "code",
   "execution_count": 1,
   "source": [
    "# really simple function, appends a variable x to a list l \n",
    "# the list l is optional, if we don't provide one, the function\n",
    "# takes an empty one.\n",
    "def add_to_list(x, l=[]):\n",
    "    l.append(x)\n",
    "    return l\n",
    "\n",
    "print(add_to_list(1)) # we would expect [1], we get [1]\n",
    "print(add_to_list(\"hello\")) # we would expect [\"hello\"], we get [1, \"hello\"]"
   ],
   "outputs": [
    {
     "output_type": "stream",
     "name": "stdout",
     "text": [
      "[1]\n",
      "[1, 2]\n"
     ]
    }
   ],
   "metadata": {}
  },
  {
   "cell_type": "code",
   "execution_count": 11,
   "source": [
    "from datetime import datetime\n",
    "from time import sleep\n",
    "\n",
    "# another really simple function which takes a datetime object\n",
    "# and just prints it. Per default we want to print the current\n",
    "# date and time\n",
    "\n",
    "def print_time(dt: datetime = datetime.now()):\n",
    "    print(dt)\n",
    "    \n",
    "print_time() # we print the time once\n",
    "sleep(5)\n",
    "# here we would expect the print to show a time 5 seconds later,\n",
    "# however, we get the same time as before. This is because datetime.now()\n",
    "# is only evaluated once.\n",
    "print_time()"
   ],
   "outputs": [
    {
     "output_type": "stream",
     "name": "stdout",
     "text": [
      "2021-08-04 09:34:58.244813\n",
      "2021-08-04 09:34:58.244813\n"
     ]
    }
   ],
   "metadata": {}
  },
  {
   "cell_type": "markdown",
   "source": [
    "### The solution: the 'if arg is None'-pattern\n",
    "\n",
    "In order to avoid the problem of mutable default arguments not resetting we need to reset them explicitly. For this we use the 'if arg is None'-pattern.\n",
    "\n",
    "```python\n",
    "def f(arg=None):\n",
    "    if arg is None:\n",
    "        arg = # whatever you want the default to be\n",
    "```"
   ],
   "metadata": {}
  },
  {
   "cell_type": "code",
   "execution_count": 12,
   "source": [
    "from datetime import datetime\n",
    "from time import sleep\n",
    "\n",
    "# if arg is None pattern\n",
    "def add_to_list(x, l: list = None) -> list:\n",
    "    if l is None:\n",
    "        l = []\n",
    "    l.append(x)\n",
    "    return l\n",
    "\n",
    "def print_time(dt = None):\n",
    "    if dt is None:\n",
    "        dt = datetime.now()\n",
    "    print(dt)\n",
    "\n",
    "print(add_to_list(1))\n",
    "print(add_to_list(2))\n",
    "\n",
    "print_time()\n",
    "sleep(5)\n",
    "print_time()"
   ],
   "outputs": [
    {
     "output_type": "stream",
     "name": "stdout",
     "text": [
      "[1]\n",
      "[2]\n",
      "2021-08-04 09:36:29.202766\n",
      "2021-08-04 09:36:34.208793\n"
     ]
    }
   ],
   "metadata": {}
  }
 ],
 "metadata": {
  "kernelspec": {
   "display_name": "Python 3",
   "language": "python",
   "name": "python3"
  },
  "language_info": {
   "codemirror_mode": {
    "name": "ipython",
    "version": 3
   },
   "file_extension": ".py",
   "mimetype": "text/x-python",
   "name": "python",
   "nbconvert_exporter": "python",
   "pygments_lexer": "ipython3",
   "version": "3.8.10"
  }
 },
 "nbformat": 4,
 "nbformat_minor": 2
}