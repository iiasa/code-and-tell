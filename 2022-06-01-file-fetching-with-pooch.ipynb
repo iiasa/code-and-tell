{
 "cells": [
  {
   "cell_type": "markdown",
   "metadata": {},
   "source": [
    "# Fetch files from remote resources using pooch\n",
    "\n",
    "Including (large) input data files in repositories can lead to problems with version control performance or licensing.\n",
    "\n",
    "One way to tackle this issue is to fetch remote resources on demand. \n",
    "\n",
    "The [pooch](https://www.fatiando.org/pooch/latest/) library makes this nice and easy.\n",
    "\n",
    "## Example usage of pooch\n",
    "\n",
    "* We want to fetch the files from the zenodo entry https://zenodo.org/record/5727072/. \n",
    "* This entry runs under an open source license so no user credentials are necessary. pooch can also work with user credentials, for details see the [pooch docs](https://www.fatiando.org/pooch/latest/authentication.html)).\n",
    "* By default pooch saves the downloaded file to a hidden cache folder. This can be changed by providing a `path` arguemnt.\n",
    "* Similarly, pooch names the file according to the last part of the url and a hash of the url ([see for details](https://www.fatiando.org/pooch/latest/api/generated/pooch.retrieve.html#pooch.retrieve)). This name can be customized by providing the `fname` argument.\n",
    "* Since we are downloading a zip file, we would like to unzip it to access the contents. pooch provides a `processor` option where post download actions can be defined. For unzipping we use the pre-defined [`pooch.Unzip()`](https://www.fatiando.org/pooch/latest/api/generated/pooch.Unzip.html).\n",
    "* In the following example we use `pooch.retrieve` to download our files. This conveniently returns the path to our downloaded files so that we can direclty work with them."
   ]
  },
  {
   "cell_type": "code",
   "execution_count": null,
   "metadata": {},
   "outputs": [],
   "source": [
    "import pooch\n",
    "from pathlib import Path\n",
    "\n",
    "commit_data_name = \"COMMIT_data_v1.1.zip\"\n",
    "\n",
    "files = pooch.retrieve(\n",
    "    url=\"doi:10.5281/zenodo.5727072/COMMIT_data_v1.1.zip\", # download from a doi\n",
    "    known_hash=\"md5:62cd6e12fa21d12d7ce8e6b21739e440\", # known hash of the zip file from zenodo\n",
    "    fname=commit_data_name, # rename to the same name as on zenodo\n",
    "    path=\".\", # save the output to the current working directory\n",
    "    progressbar=True, # display a progress bar while the download is running\n",
    "    processor=pooch.Unzip(extract_dir=\".\") # after download unzip and store the contents in the current working dir\n",
    "    )\n",
    "Path(commit_data_name).unlink() # since we already unpacked the zip and no longer need it, it is safe to remove"
   ]
  },
  {
   "cell_type": "code",
   "execution_count": null,
   "metadata": {},
   "outputs": [],
   "source": [
    "print(files)"
   ]
  },
  {
   "cell_type": "code",
   "execution_count": null,
   "metadata": {},
   "outputs": [],
   "source": [
    "import pyam\n",
    "# since we now have our data file, we can start our analysis\n",
    "data = pyam.IamDataFrame(files[0])"
   ]
  }
 ],
 "metadata": {
  "interpreter": {
   "hash": "31f2aee4e71d21fbe5cf8b01ff0e069b9275f58929596ceb00d14d90e3e16cd6"
  },
  "kernelspec": {
   "display_name": "Python 3",
   "language": "python",
   "name": "python3"
  },
  "language_info": {
   "codemirror_mode": {
    "name": "ipython",
    "version": 3
   },
   "file_extension": ".py",
   "mimetype": "text/x-python",
   "name": "python",
   "nbconvert_exporter": "python",
   "pygments_lexer": "ipython3",
   "version": "3.8.10"
  }
 },
 "nbformat": 4,
 "nbformat_minor": 2
}
